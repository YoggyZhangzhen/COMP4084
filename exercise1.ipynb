{
 "cells": [
  {
   "cell_type": "code",
   "execution_count": 7,
   "id": "3596dcb3-a53d-45e4-9781-552ef1c2761b",
   "metadata": {},
   "outputs": [
    {
     "name": "stdin",
     "output_type": "stream",
     "text": [
      " 6\n"
     ]
    },
    {
     "name": "stdout",
     "output_type": "stream",
     "text": [
      "regular_whole_price:£20.94\n",
      "discount_price:£12.56\n",
      "total_price:£8.38\n"
     ]
    }
   ],
   "source": [
    "num=int(input())\n",
    "regular_price=3.49\n",
    "discount=0.6\n",
    "\n",
    "regular_whole_price=num*regular_price\n",
    "discount_price=regular_whole_price*discount\n",
    "total_price=regular_whole_price-discount_price\n",
    "print(f\"regular_whole_price:£{regular_whole_price:.2f}\")\n",
    "print(f\"discount_price:£{discount_price:.2f}\")\n",
    "print(f\"total_price:£{total_price:.2f}\")"
   ]
  },
  {
   "cell_type": "code",
   "execution_count": 13,
   "id": "812385b9-a369-40a6-af92-a807a90979a6",
   "metadata": {},
   "outputs": [
    {
     "name": "stdin",
     "output_type": "stream",
     "text": [
      " woshishabi\n"
     ]
    },
    {
     "name": "stdout",
     "output_type": "stream",
     "text": [
      "len:10\n"
     ]
    },
    {
     "name": "stdin",
     "output_type": "stream",
     "text": [
      " 3\n",
      " 5\n"
     ]
    },
    {
     "name": "stdout",
     "output_type": "stream",
     "text": [
      "substr:hi\n"
     ]
    }
   ],
   "source": [
    "song=input()\n",
    "print(f\"len:{len(song)}\")\n",
    "start=int(input())\n",
    "end=int(input())\n",
    "print(f\"substr:{song[start:end]}\")"
   ]
  },
  {
   "cell_type": "code",
   "execution_count": 14,
   "id": "a70986a0-a083-435a-890e-1dc19fdba878",
   "metadata": {},
   "outputs": [
    {
     "name": "stdin",
     "output_type": "stream",
     "text": [
      "please enter your name: zhen\n",
      "input surname: zhang\n"
     ]
    },
    {
     "name": "stdout",
     "output_type": "stream",
     "text": [
      "ZHENZHANG\n"
     ]
    }
   ],
   "source": [
    "name=input(\"please enter your name:\")\n",
    "if len(name)<5:\n",
    "  surname=input(\"input surname:\")\n",
    "  name=name+surname\n",
    "  print(name.upper())\n",
    "else:\n",
    "  print(name.lower())"
   ]
  },
  {
   "cell_type": "code",
   "execution_count": 15,
   "id": "ba72922c-964b-41b3-a227-a9dce27b139f",
   "metadata": {},
   "outputs": [
    {
     "name": "stdin",
     "output_type": "stream",
     "text": [
      " aaarvark\n"
     ]
    },
    {
     "name": "stdout",
     "output_type": "stream",
     "text": [
      "aaarvarkway\n"
     ]
    }
   ],
   "source": [
    "word=input().lower()\n",
    "vowels=['a','e','i','o','u']\n",
    "if word[0] in vowels:\n",
    "  pig_latin = word + 'way'\n",
    "else:\n",
    "  pig_latin = word[1:] + word[0] + 'ay'\n",
    "print(pig_latin.lower())"
   ]
  },
  {
   "cell_type": "code",
   "execution_count": 16,
   "id": "2bc18fe9-35dc-458f-8ecd-371d983dd764",
   "metadata": {},
   "outputs": [
    {
     "name": "stdin",
     "output_type": "stream",
     "text": [
      "if it is raining yes\n",
      "if it is windy yes\n"
     ]
    },
    {
     "name": "stdout",
     "output_type": "stream",
     "text": [
      "It’s too windy for an umbrella\n"
     ]
    }
   ],
   "source": [
    "rain=input(\"if it is raining\").lower()\n",
    "if rain == \"yes\":\n",
    "    windy=input(\"if it is windy\").lower()\n",
    "    if windy == 'yes':\n",
    "        print('It’s too windy for an umbrella')\n",
    "    else:\n",
    "        print('Take an umbrella')\n",
    "else:\n",
    "    print('Enjoy your day')"
   ]
  },
  {
   "cell_type": "code",
   "execution_count": 17,
   "id": "34deb49d-ce64-454b-9f5a-1ee084388974",
   "metadata": {},
   "outputs": [
    {
     "name": "stdin",
     "output_type": "stream",
     "text": [
      " 18\n"
     ]
    },
    {
     "name": "stdout",
     "output_type": "stream",
     "text": [
      "you can vote\n"
     ]
    }
   ],
   "source": [
    "age=int(input())\n",
    "if age>=18:\n",
    "    print('you can vote')\n",
    "elif age==17:\n",
    "    print('you can learn to drive')\n",
    "elif age==16:\n",
    "    print('you can buy a lottery ticket')\n",
    "else:\n",
    "    print('you can go Trick-or-Treating')"
   ]
  },
  {
   "cell_type": "code",
   "execution_count": 18,
   "id": "c32b68a7-86d7-4dd4-bfb4-345e25e507f7",
   "metadata": {},
   "outputs": [
    {
     "name": "stdin",
     "output_type": "stream",
     "text": [
      " 20\n"
     ]
    },
    {
     "name": "stdout",
     "output_type": "stream",
     "text": [
      "even\n"
     ]
    }
   ],
   "source": [
    "num=int(input())\n",
    "print('even' if num%2==0 else 'odd')"
   ]
  },
  {
   "cell_type": "code",
   "execution_count": 19,
   "id": "6234f4fa-4d36-4147-86d4-40d9a35764dc",
   "metadata": {},
   "outputs": [
    {
     "name": "stdin",
     "output_type": "stream",
     "text": [
      " y\n"
     ]
    },
    {
     "name": "stdout",
     "output_type": "stream",
     "text": [
      "sometimes y is a vowel, and sometimes y is a consonant\n"
     ]
    }
   ],
   "source": [
    "letter=input().lower()\n",
    "vowels=['a','e','i','o','u']\n",
    "if letter in vowels:\n",
    "  print('the entered letter is a vowel')\n",
    "elif letter == \"y\":\n",
    "  print('sometimes y is a vowel, and sometimes y is a consonant')\n",
    "else:\n",
    "  print('the entered letter is a consonant')"
   ]
  },
  {
   "cell_type": "code",
   "execution_count": 20,
   "id": "8508c101-46f3-4613-8ce3-2e4286291511",
   "metadata": {},
   "outputs": [
    {
     "name": "stdin",
     "output_type": "stream",
     "text": [
      " 10\n"
     ]
    },
    {
     "name": "stdout",
     "output_type": "stream",
     "text": [
      "Decagon\n"
     ]
    }
   ],
   "source": [
    "sides=int(input())\n",
    "shapes={\n",
    "  3:'Triangle',\n",
    "  4:'Quadrilateral',\n",
    "  5:'Pentagon',\n",
    "  6:'Hexagon',\n",
    "  7:'Heptagon',\n",
    "  8:'Octagon',\n",
    "  9:'Nonagon',\n",
    "  10:'Decagon',\n",
    "}\n",
    "if sides in shapes:\n",
    "  print(shapes[sides])\n",
    "else:\n",
    "  print('error')"
   ]
  },
  {
   "cell_type": "code",
   "execution_count": 21,
   "id": "1ef90585-bc95-4a84-9782-6cf88ae134a5",
   "metadata": {},
   "outputs": [
    {
     "name": "stdin",
     "output_type": "stream",
     "text": [
      " 1\n",
      " 2\n",
      " 3\n"
     ]
    },
    {
     "name": "stdout",
     "output_type": "stream",
     "text": [
      "scalene\n"
     ]
    }
   ],
   "source": [
    "a=float(input())\n",
    "b=float(input())\n",
    "c=float(input())\n",
    "if a==b==c:\n",
    "  print('equilateral')\n",
    "elif a==b or b==c or a==c:\n",
    "  print('isosceles')\n",
    "else:\n",
    "  print('scalene')"
   ]
  },
  {
   "cell_type": "code",
   "execution_count": 24,
   "id": "dc10aa83-acde-4b99-9b2b-00d80bb01353",
   "metadata": {},
   "outputs": [
    {
     "name": "stdout",
     "output_type": "stream",
     "text": [
      "1) square\n",
      "2) triangle\n"
     ]
    },
    {
     "name": "stdin",
     "output_type": "stream",
     "text": [
      " 1\n",
      "length 2\n"
     ]
    },
    {
     "name": "stdout",
     "output_type": "stream",
     "text": [
      "4.0\n"
     ]
    }
   ],
   "source": [
    "print('1) square')\n",
    "print('2) triangle')\n",
    "num=input()\n",
    "if num=='1':\n",
    "    side = float(input('length'))\n",
    "    area = side**2\n",
    "    print(area)\n",
    "elif num=='2':\n",
    "    base = float(input('base'))\n",
    "    height = float(input('height'))\n",
    "    area=base*height/2\n",
    "    print(area)\n",
    "else:\n",
    "    print('error')"
   ]
  }
 ],
 "metadata": {
  "kernelspec": {
   "display_name": "Python 3 (ipykernel)",
   "language": "python",
   "name": "python3"
  },
  "language_info": {
   "codemirror_mode": {
    "name": "ipython",
    "version": 3
   },
   "file_extension": ".py",
   "mimetype": "text/x-python",
   "name": "python",
   "nbconvert_exporter": "python",
   "pygments_lexer": "ipython3",
   "version": "3.13.5"
  }
 },
 "nbformat": 4,
 "nbformat_minor": 5
}
